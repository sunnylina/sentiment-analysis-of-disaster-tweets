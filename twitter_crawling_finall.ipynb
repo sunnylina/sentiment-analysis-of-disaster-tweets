{
 "nbformat": 4,
 "nbformat_minor": 0,
 "metadata": {
  "colab": {
   "name": "twitter_crawling_finall.ipynb",
   "private_outputs": true,
   "provenance": []
  },
  "kernelspec": {
   "name": "python3",
   "display_name": "Python 3"
  },
  "language_info": {
   "name": "python"
  }
 },
 "cells": [
  {
   "cell_type": "code",
   "execution_count": null,
   "metadata": {
    "id": "wuS2hRYDq2J2",
    "pycharm": {
     "name": "#%%\n"
    }
   },
   "outputs": [],
   "source": [
    "import tweepy\n",
    "import pandas as pd"
   ]
  },
  {
   "cell_type": "code",
   "source": [
    "consumer_key = \"BSyCoX3JjpfBwDeksERsLKd8a\"\n",
    "consumer_secret = \"r59uerAgCw3PSyYmLOKm0ckuYMyBkAIopsd3CHGqQ8tGph8R6f\"\n",
    "access_token = \"1556511946265858048-PoQFM4wcZqSQz0Q1QotD7NJ9UUQfjc\"\n",
    "access_token_secret = \"mDR1sumMsaU8CY7cwUa9Cjp2RxO2upWZY8s9BYi7M9xfi\""
   ],
   "metadata": {
    "id": "SXqzzJWIq5Aa",
    "pycharm": {
     "name": "#%%\n"
    }
   },
   "execution_count": null,
   "outputs": []
  },
  {
   "cell_type": "code",
   "source": [
    "#계정 승인\n",
    "auth = tweepy.OAuthHandler(consumer_key, consumer_secret)\n",
    "auth.set_access_token(access_token, access_token_secret)\n",
    "twitter_api = tweepy.API(auth)"
   ],
   "metadata": {
    "id": "JOe2GE6Tq60A",
    "pycharm": {
     "name": "#%%\n"
    }
   },
   "execution_count": null,
   "outputs": []
  },
  {
   "cell_type": "code",
   "source": [
    " # 3. twitter API 생성\n",
    "api = tweepy.API(auth, wait_on_rate_limit=True)\n",
    "\n",
    "\n",
    "keyword = '미세먼지' # 검색하고 싶은 키워드 입력\n",
    "result = [] # 크롤링 텍스트를 저장 할 리스트 변수\n",
    " \n",
    "for i in range(1,500): # 1,2 페이지 크롤링\n",
    "    tweets = api.search(keyword) # keyword 검색 실시. 결과가 tweets 변수에 담긴다. \n",
    "    for tweet in tweets:\n",
    "        result.append([tweet.id_str, tweet.text, tweet.created_at]) # 크롤링 결과 리스트에 삽입.(id, 트윗내용, 생성날짜)\n",
    " \n",
    "print(len(result)) # 크롤링하여 가져온 트윗 개수\n",
    "print(result[0]) # 수집결과 확인(첫번째 항목만)\n",
    "print(result) # 전체를 확인하고 싶으면 이 코드로 "
   ],
   "metadata": {
    "id": "h9Yvfmw-q8mG",
    "pycharm": {
     "name": "#%%\n"
    }
   },
   "execution_count": null,
   "outputs": []
  },
  {
   "cell_type": "code",
   "source": [
    "str(result)\n"
   ],
   "metadata": {
    "id": "x7j2m1a2rPzL",
    "pycharm": {
     "name": "#%%\n"
    }
   },
   "execution_count": null,
   "outputs": []
  },
  {
   "cell_type": "code",
   "source": [
    "df = pd.DataFrame(result, columns=['ID', 'Text', 'Date'])\n",
    "\n",
    "df.to_csv('fine dust_00.csv', encoding='utf-8')"
   ],
   "metadata": {
    "id": "Ha8Y6IJ7raGh",
    "pycharm": {
     "name": "#%%\n"
    }
   },
   "execution_count": null,
   "outputs": []
  },
  {
   "cell_type": "code",
   "source": [
    "df"
   ],
   "metadata": {
    "id": "CWa9UUWPrd7S",
    "pycharm": {
     "name": "#%%\n"
    }
   },
   "execution_count": null,
   "outputs": []
  },
  {
   "cell_type": "code",
   "source": [],
   "metadata": {
    "id": "wm7ue1CRKcXy",
    "pycharm": {
     "name": "#%%\n"
    }
   },
   "execution_count": null,
   "outputs": []
  }
 ]
}